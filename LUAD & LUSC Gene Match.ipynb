{
 "cells": [
  {
   "cell_type": "code",
   "execution_count": 1,
   "metadata": {},
   "outputs": [
    {
     "data": {
      "text/html": [
       "<div>\n",
       "<style scoped>\n",
       "    .dataframe tbody tr th:only-of-type {\n",
       "        vertical-align: middle;\n",
       "    }\n",
       "\n",
       "    .dataframe tbody tr th {\n",
       "        vertical-align: top;\n",
       "    }\n",
       "\n",
       "    .dataframe thead th {\n",
       "        text-align: right;\n",
       "    }\n",
       "</style>\n",
       "<table border=\"1\" class=\"dataframe\">\n",
       "  <thead>\n",
       "    <tr style=\"text-align: right;\">\n",
       "      <th></th>\n",
       "      <th>_LUAD</th>\n",
       "      <th>_LUSC</th>\n",
       "    </tr>\n",
       "  </thead>\n",
       "  <tbody>\n",
       "    <tr>\n",
       "      <td>0</td>\n",
       "      <td>ACOT6</td>\n",
       "      <td>ABL2</td>\n",
       "    </tr>\n",
       "    <tr>\n",
       "      <td>1</td>\n",
       "      <td>ACTN2</td>\n",
       "      <td>ACTN2</td>\n",
       "    </tr>\n",
       "    <tr>\n",
       "      <td>2</td>\n",
       "      <td>ADCY5</td>\n",
       "      <td>ACTN4</td>\n",
       "    </tr>\n",
       "    <tr>\n",
       "      <td>3</td>\n",
       "      <td>AKT1</td>\n",
       "      <td>ADCY2</td>\n",
       "    </tr>\n",
       "    <tr>\n",
       "      <td>4</td>\n",
       "      <td>AKT1</td>\n",
       "      <td>ADCY9</td>\n",
       "    </tr>\n",
       "    <tr>\n",
       "      <td>...</td>\n",
       "      <td>...</td>\n",
       "      <td>...</td>\n",
       "    </tr>\n",
       "    <tr>\n",
       "      <td>122</td>\n",
       "      <td>UPP1</td>\n",
       "      <td>NaN</td>\n",
       "    </tr>\n",
       "    <tr>\n",
       "      <td>123</td>\n",
       "      <td>UPP2</td>\n",
       "      <td>NaN</td>\n",
       "    </tr>\n",
       "    <tr>\n",
       "      <td>124</td>\n",
       "      <td>WDR17</td>\n",
       "      <td>NaN</td>\n",
       "    </tr>\n",
       "    <tr>\n",
       "      <td>125</td>\n",
       "      <td>WDR53</td>\n",
       "      <td>NaN</td>\n",
       "    </tr>\n",
       "    <tr>\n",
       "      <td>126</td>\n",
       "      <td>YES1</td>\n",
       "      <td>NaN</td>\n",
       "    </tr>\n",
       "  </tbody>\n",
       "</table>\n",
       "<p>127 rows × 2 columns</p>\n",
       "</div>"
      ],
      "text/plain": [
       "     _LUAD  _LUSC\n",
       "0    ACOT6   ABL2\n",
       "1    ACTN2  ACTN2\n",
       "2    ADCY5  ACTN4\n",
       "3     AKT1  ADCY2\n",
       "4     AKT1  ADCY9\n",
       "..     ...    ...\n",
       "122   UPP1    NaN\n",
       "123   UPP2    NaN\n",
       "124  WDR17    NaN\n",
       "125  WDR53    NaN\n",
       "126   YES1    NaN\n",
       "\n",
       "[127 rows x 2 columns]"
      ]
     },
     "execution_count": 1,
     "metadata": {},
     "output_type": "execute_result"
    }
   ],
   "source": [
    "import numpy as np\n",
    "import pandas as pd\n",
    "import matplotlib.pyplot as pp\n",
    "\n",
    "\n",
    "file = pd.read_csv('exp09_genelist_luad_lusc.csv')\n",
    "\n",
    "file"
   ]
  },
  {
   "cell_type": "code",
   "execution_count": 2,
   "metadata": {},
   "outputs": [
    {
     "data": {
      "text/plain": [
       "0      ACOT6\n",
       "1      ACTN2\n",
       "2      ADCY5\n",
       "3       AKT1\n",
       "4       AKT1\n",
       "       ...  \n",
       "122     UPP1\n",
       "123     UPP2\n",
       "124    WDR17\n",
       "125    WDR53\n",
       "126     YES1\n",
       "Name: _LUAD, Length: 127, dtype: object"
      ]
     },
     "execution_count": 2,
     "metadata": {},
     "output_type": "execute_result"
    }
   ],
   "source": [
    "LUAD = file['_LUAD']\n",
    "LUAD = LUAD.dropna()\n",
    "\n",
    "LUAD"
   ]
  },
  {
   "cell_type": "code",
   "execution_count": 3,
   "metadata": {},
   "outputs": [
    {
     "data": {
      "text/plain": [
       "0       ABL2\n",
       "1      ACTN2\n",
       "2      ACTN4\n",
       "3      ADCY2\n",
       "4      ADCY9\n",
       "       ...  \n",
       "99      TP63\n",
       "100     TPK1\n",
       "101    TPST2\n",
       "102    WDR59\n",
       "103     YES1\n",
       "Name: _LUSC, Length: 104, dtype: object"
      ]
     },
     "execution_count": 3,
     "metadata": {},
     "output_type": "execute_result"
    }
   ],
   "source": [
    "LUSC = file['_LUSC']\n",
    "LUSC = LUSC.dropna()\n",
    "\n",
    "LUSC"
   ]
  },
  {
   "cell_type": "code",
   "execution_count": 4,
   "metadata": {},
   "outputs": [
    {
     "data": {
      "text/plain": [
       "33"
      ]
     },
     "execution_count": 4,
     "metadata": {},
     "output_type": "execute_result"
    }
   ],
   "source": [
    "LUADin = LUAD.isin(LUSC)\n",
    "\n",
    "LUADin.sum()"
   ]
  },
  {
   "cell_type": "code",
   "execution_count": 5,
   "metadata": {},
   "outputs": [
    {
     "data": {
      "text/plain": [
       "31"
      ]
     },
     "execution_count": 5,
     "metadata": {},
     "output_type": "execute_result"
    }
   ],
   "source": [
    "LUSCin = LUSC.isin(LUAD)\n",
    "\n",
    "LUSCin.sum()"
   ]
  },
  {
   "cell_type": "code",
   "execution_count": 6,
   "metadata": {},
   "outputs": [
    {
     "name": "stdout",
     "output_type": "stream",
     "text": [
      "LUAD Genes: 127 25.98 %\n",
      "LUSC Genes: 104 29.81 %\n"
     ]
    }
   ],
   "source": [
    "print ('LUAD Genes:',len(LUAD), round((LUADin.sum()/LUAD.size)*100,2),'%')\n",
    "print ('LUSC Genes:',len(LUSC),round((LUSCin.sum()/LUSC.size)*100,2),'%')"
   ]
  },
  {
   "cell_type": "code",
   "execution_count": null,
   "metadata": {},
   "outputs": [],
   "source": []
  }
 ],
 "metadata": {
  "kernelspec": {
   "display_name": "Python 3",
   "language": "python",
   "name": "python3"
  },
  "language_info": {
   "codemirror_mode": {
    "name": "ipython",
    "version": 3
   },
   "file_extension": ".py",
   "mimetype": "text/x-python",
   "name": "python",
   "nbconvert_exporter": "python",
   "pygments_lexer": "ipython3",
   "version": "3.7.4"
  }
 },
 "nbformat": 4,
 "nbformat_minor": 2
}
